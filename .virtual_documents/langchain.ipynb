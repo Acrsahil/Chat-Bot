from langchain import HuggingFaceHub
from langchain import LLMChain
from dotenv import load_dotenv
import os


load_dotenv()  # Load variables from .env
api_token = os.getenv("HUGGINGFACEHUB_API_TOKEN")


llm_huggingface = HuggingFaceHub(repo_id="deepseek-ai/DeepSeek-R1",model_kwargs={"temperature":0.6,"max_length":64})


output=llm_huggingface.invoke("Can you make a song on How to learn Ai in 2025")
print(output)





from langchain.prompts import PromptTemplate
prompt_temp = PromptTemplate(input_variables=['country','Population'],
                             template="Tell me the capital of {country}")
prompt_temp.format(country="Nepal")


chain = LLMChain(llm=llm_huggingface,prompt=prompt_temp)
print(chain.run("Nepal"))





capital_template=PromptTemplate(input_variables=['country'],
                               template="Please tell me the capital of the {country}")

capital_chain=LLMChain(llm=llm_huggingface,prompt=capital_template)

famous_template=PromptTemplate(input_variables=['capital'],
                              template="Suggest Me some amzing places to visit in {capital}")


famous_chain = LLMChain(llm=llm_huggingface,prompt=famous_template)


from langchain.chains import SimpleSequentialChain
chain=SimpleSequentialChain(chains=[capital_chain,famous_chain])
chain.run("India")



