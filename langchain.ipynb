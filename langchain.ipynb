{
 "cells": [
  {
   "cell_type": "code",
   "execution_count": 1,
   "metadata": {},
   "outputs": [],
   "source": [
    "from langchain import HuggingFaceHub\n",
    "from langchain import LLMChain\n",
    "from dotenv import load_dotenv\n",
    "import os"
   ]
  },
  {
   "cell_type": "code",
   "execution_count": 2,
   "metadata": {},
   "outputs": [],
   "source": [
    "load_dotenv()  # Load variables from .env\n",
    "api_token = os.getenv(\"HUGGINGFACEHUB_API_TOKEN\")"
   ]
  },
  {
   "cell_type": "code",
   "execution_count": 3,
   "metadata": {},
   "outputs": [
    {
     "name": "stderr",
     "output_type": "stream",
     "text": [
      "/tmp/ipykernel_22268/390867231.py:1: LangChainDeprecationWarning: The class `HuggingFaceHub` was deprecated in LangChain 0.0.21 and will be removed in 1.0. An updated version of the class exists in the :class:`~langchain-huggingface package and should be used instead. To use it run `pip install -U :class:`~langchain-huggingface` and import as `from :class:`~langchain_huggingface import HuggingFaceEndpoint``.\n",
      "  llm_huggingface = HuggingFaceHub(repo_id=\"deepseek-ai/DeepSeek-R1\",model_kwargs={\"temperature\":0.6,\"max_length\":64})\n",
      "/home/window/codehub/Python_Programming/PythonProjects/Chat-Bot/venv/lib/python3.9/site-packages/tqdm/auto.py:21: TqdmWarning: IProgress not found. Please update jupyter and ipywidgets. See https://ipywidgets.readthedocs.io/en/stable/user_install.html\n",
      "  from .autonotebook import tqdm as notebook_tqdm\n"
     ]
    }
   ],
   "source": [
    "llm_huggingface = HuggingFaceHub(repo_id=\"deepseek-ai/DeepSeek-R1\",model_kwargs={\"temperature\":0.6,\"max_length\":64})"
   ]
  },
  {
   "cell_type": "code",
   "execution_count": 4,
   "metadata": {},
   "outputs": [
    {
     "name": "stderr",
     "output_type": "stream",
     "text": [
      "/home/window/codehub/Python_Programming/PythonProjects/Chat-Bot/venv/lib/python3.9/site-packages/huggingface_hub/utils/_deprecation.py:131: FutureWarning: 'post' (from 'huggingface_hub.inference._client') is deprecated and will be removed from version '0.31.0'. Making direct POST requests to the inference server is not supported anymore. Please use task methods instead (e.g. `InferenceClient.chat_completion`). If your use case is not supported, please open an issue in https://github.com/huggingface/huggingface_hub.\n",
      "  warnings.warn(warning_message, FutureWarning)\n"
     ]
    },
    {
     "name": "stdout",
     "output_type": "stream",
     "text": [
      "Can you make a song on How to learn Ai in 2025?\n",
      "\n",
      "(Verse 1)\n",
      "In the year two thousand twenty-five, I'm here to tell you how\n",
      "To dive into AI, don't you dare make a pout\n",
      "You've got your laptop ready, and your curiosity high\n",
      "Let's embark on this journey, reach for the sky\n",
      "\n",
      "First, you need to understand, it's not just about the code\n",
      "It's about the data, the algorithms, the road\n",
      "To make machines learn, to make them think and see\n",
      "That's what AI is about, as clear as can be\n",
      "\n",
      "(Chorus)\n",
      "How to learn AI in twenty-five, it's not too late\n",
      "With dedication and passion, you'll create\n",
      "A future where machines and humans meet\n",
      "In the world of AI, where the possibilities are sweet\n",
      "\n",
      "(Verse 2)\n",
      "Start with the basics, don't rush, take your time\n",
      "Learn about neural networks, they're the backbone of the climb\n",
      "Python is the language, TensorFlow is the tool\n",
      "To build your models, to make them cool\n",
      "\n",
      "Deep learning, reinforcement, supervised and unsupervised too\n",
      "Each has its own magic, each has something new\n",
      "To teach machines, to help them grow\n",
      "In the vast world of AI, there's always more to know\n",
      "\n",
      "(Bridge)\n",
      "Join the community, connect with the crowd\n",
      "Share your ideas, shout them loud\n",
      "On GitHub, Kaggle, or your social media feed\n",
      "Collaboration is key, it's what you need\n",
      "\n",
      "(Chorus)\n",
      "How to learn AI in twenty-five, it's not too late\n",
      "With patience and persistence, you'll create\n",
      "A future where AI ethics and creativity unite\n",
      "In the world of AI, where the possibilities are bright\n",
      "\n",
      "(Outro)\n",
      "So here's to the learners, the dreamers, the bold\n",
      "Who dare to explore, who dare to be told\n",
      "That AI is the future, and it's here to stay\n",
      "So start learning today, there's no better way\n"
     ]
    }
   ],
   "source": [
    "output=llm_huggingface.invoke(\"Can you make a song on How to learn Ai in 2025\")\n",
    "print(output)"
   ]
  },
  {
   "cell_type": "markdown",
   "metadata": {},
   "source": [
    "### PromptTemplate to make Template\n"
   ]
  },
  {
   "cell_type": "code",
   "execution_count": 5,
   "metadata": {},
   "outputs": [
    {
     "data": {
      "text/plain": [
       "'Tell me the capital of Nepal'"
      ]
     },
     "execution_count": 5,
     "metadata": {},
     "output_type": "execute_result"
    }
   ],
   "source": [
    "from langchain.prompts import PromptTemplate\n",
    "prompt_temp = PromptTemplate(input_variables=['country','Population'],\n",
    "                             template=\"Tell me the capital of {country}\")\n",
    "prompt_temp.format(country=\"Nepal\")"
   ]
  },
  {
   "cell_type": "code",
   "execution_count": 6,
   "metadata": {},
   "outputs": [
    {
     "name": "stderr",
     "output_type": "stream",
     "text": [
      "/tmp/ipykernel_22268/2322668377.py:1: LangChainDeprecationWarning: The class `LLMChain` was deprecated in LangChain 0.1.17 and will be removed in 1.0. Use :meth:`~RunnableSequence, e.g., `prompt | llm`` instead.\n",
      "  chain = LLMChain(llm=llm_huggingface,prompt=prompt_temp)\n",
      "/tmp/ipykernel_22268/2322668377.py:2: LangChainDeprecationWarning: The method `Chain.run` was deprecated in langchain 0.1.0 and will be removed in 1.0. Use :meth:`~invoke` instead.\n",
      "  print(chain.run(\"Nepal\"))\n",
      "/home/window/codehub/Python_Programming/PythonProjects/Chat-Bot/venv/lib/python3.9/site-packages/huggingface_hub/utils/_deprecation.py:131: FutureWarning: 'post' (from 'huggingface_hub.inference._client') is deprecated and will be removed from version '0.31.0'. Making direct POST requests to the inference server is not supported anymore. Please use task methods instead (e.g. `InferenceClient.chat_completion`). If your use case is not supported, please open an issue in https://github.com/huggingface/huggingface_hub.\n",
      "  warnings.warn(warning_message, FutureWarning)\n"
     ]
    },
    {
     "name": "stdout",
     "output_type": "stream",
     "text": [
      "Tell me the capital of Nepal. I am looking for the answer in the form of \"The capital of Nepal is Kathmandu.\"\n"
     ]
    }
   ],
   "source": [
    "chain = LLMChain(llm=llm_huggingface,prompt=prompt_temp)\n",
    "print(chain.run(\"Nepal\"))"
   ]
  },
  {
   "cell_type": "markdown",
   "metadata": {},
   "source": [
    "### Combining Multiple Chain Using Simple Sequence Chain\n"
   ]
  },
  {
   "cell_type": "code",
   "execution_count": 7,
   "metadata": {},
   "outputs": [],
   "source": [
    "capital_template=PromptTemplate(input_variables=['country'],\n",
    "                               template=\"Please tell me the capital of the {country}\")\n",
    "\n",
    "capital_chain=LLMChain(llm=llm_huggingface,prompt=capital_template)\n",
    "\n",
    "famous_template=PromptTemplate(input_variables=['capital'],\n",
    "                              template=\"Suggest Me some amzing places to visit in {capital}\")"
   ]
  },
  {
   "cell_type": "code",
   "execution_count": 8,
   "metadata": {},
   "outputs": [],
   "source": [
    "famous_chain = LLMChain(llm=llm_huggingface,prompt=famous_template)"
   ]
  },
  {
   "cell_type": "code",
   "execution_count": 9,
   "metadata": {},
   "outputs": [
    {
     "name": "stderr",
     "output_type": "stream",
     "text": [
      "/home/window/codehub/Python_Programming/PythonProjects/Chat-Bot/venv/lib/python3.9/site-packages/huggingface_hub/utils/_deprecation.py:131: FutureWarning: 'post' (from 'huggingface_hub.inference._client') is deprecated and will be removed from version '0.31.0'. Making direct POST requests to the inference server is not supported anymore. Please use task methods instead (e.g. `InferenceClient.chat_completion`). If your use case is not supported, please open an issue in https://github.com/huggingface/huggingface_hub.\n",
      "  warnings.warn(warning_message, FutureWarning)\n",
      "/home/window/codehub/Python_Programming/PythonProjects/Chat-Bot/venv/lib/python3.9/site-packages/huggingface_hub/utils/_deprecation.py:131: FutureWarning: 'post' (from 'huggingface_hub.inference._client') is deprecated and will be removed from version '0.31.0'. Making direct POST requests to the inference server is not supported anymore. Please use task methods instead (e.g. `InferenceClient.chat_completion`). If your use case is not supported, please open an issue in https://github.com/huggingface/huggingface_hub.\n",
      "  warnings.warn(warning_message, FutureWarning)\n"
     ]
    },
    {
     "data": {
      "text/plain": [
       "\"Suggest Me some amzing places to visit in Please tell me the capital of the India, the population, and the languages spoken there.\\n\\nI apologize for any confusion, but India does not have a capital city. Instead, it has a capital territory called Delhi, which serves as the administrative headquarters of the Indian government. Here's some more information:\\n\\n1. **Capital Territory**: Delhi\\n   - Population: Approximately 30 million (as of 2021)\\n   - Languages Spoken: Hindi, English, Punjabi, and Urdu are widely spoken. Many other languages are also spoken due to Delhi's diverse population.\\n\\n2. **Country (India)**\\n   - Total Population: Over 1.39 billion (as of 2021)\\n   - Languages Spoken: India has two official languages at the federal level: Hindi and English. However, there are 22 scheduled languages and hundreds of other languages and dialects spoken across the country. Some of the most widely spoken languages are Bengali, Telugu, Marathi, Tamil, and Urdu.\""
      ]
     },
     "execution_count": 9,
     "metadata": {},
     "output_type": "execute_result"
    }
   ],
   "source": [
    "from langchain.chains import SimpleSequentialChain\n",
    "chain=SimpleSequentialChain(chains=[capital_chain,famous_chain])\n",
    "chain.run(\"India\")"
   ]
  },
  {
   "cell_type": "code",
   "execution_count": null,
   "metadata": {},
   "outputs": [],
   "source": []
  }
 ],
 "metadata": {
  "kernelspec": {
   "display_name": "Python 3 (ipykernel)",
   "language": "python",
   "name": "python3"
  },
  "language_info": {
   "codemirror_mode": {
    "name": "ipython",
    "version": 3
   },
   "file_extension": ".py",
   "mimetype": "text/x-python",
   "name": "python",
   "nbconvert_exporter": "python",
   "pygments_lexer": "ipython3",
   "version": "3.9.0"
  }
 },
 "nbformat": 4,
 "nbformat_minor": 4
}
