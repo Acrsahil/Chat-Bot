{
 "cells": [
  {
   "cell_type": "code",
   "execution_count": 36,
   "metadata": {},
   "outputs": [],
   "source": [
    "os.environ[\"HUGGINGFACEHUB_API_TOKEN\"]=\"\""
   ]
  },
  {
   "cell_type": "code",
   "execution_count": 46,
   "metadata": {},
   "outputs": [],
   "source": [
    "from langchain import HuggingFaceHub\n",
    "llm_huggingface = HuggingFaceHub(repo_id=\"deepseek-ai/DeepSeek-R1\",model_kwargs={\"temperature\":0.6,\"max_length\":64})"
   ]
  },
  {
   "cell_type": "code",
   "execution_count": 48,
   "metadata": {},
   "outputs": [
    {
     "name": "stderr",
     "output_type": "stream",
     "text": [
      "/home/window/codehub/Python_Programming/PythonProjects/Chat-Bot/venv/lib/python3.9/site-packages/huggingface_hub/utils/_deprecation.py:131: FutureWarning: 'post' (from 'huggingface_hub.inference._client') is deprecated and will be removed from version '0.31.0'. Making direct POST requests to the inference server is not supported anymore. Please use task methods instead (e.g. `InferenceClient.chat_completion`). If your use case is not supported, please open an issue in https://github.com/huggingface/huggingface_hub.\n",
      "  warnings.warn(warning_message, FutureWarning)\n"
     ]
    },
    {
     "name": "stdout",
     "output_type": "stream",
     "text": [
      "Give me code to make snake game in c language\n",
      "\n",
      "#include <stdio.h>\n",
      "#include <conio.h>\n",
      "#include <windows.h>\n",
      "\n",
      "#define WIDTH 50\n",
      "#define HEIGHT 25\n",
      "\n",
      "void gotoxy(int x, int y)\n",
      "{\n",
      "    COORD c = {x, y};\n",
      "    SetConsoleCursorPosition(GetStdHandle(STD_OUTPUT_HANDLE), c);\n",
      "}\n",
      "\n",
      "void drawBorder()\n",
      "{\n",
      "    for (int i = 0; i < WIDTH; i++)\n",
      "    {\n",
      "        gotoxy(i, 0);\n",
      "        printf(\"%c\", 205);\n",
      "        gotoxy(i, HEIGHT - 1);\n",
      "        printf(\"%c\", 205);\n",
      "    }\n",
      "\n",
      "    for (int i = 0; i < HEIGHT; i++)\n",
      "    {\n",
      "        gotoxy(0, i);\n",
      "        printf(\"%c\", 186);\n",
      "        gotoxy(WIDTH - 1, i);\n",
      "        printf(\"%c\", 186);\n",
      "    }\n",
      "}\n",
      "\n",
      "int main()\n",
      "{\n",
      "    drawBorder();\n",
      "    return 0;\n",
      "}\n"
     ]
    }
   ],
   "source": [
    "output=llm_huggingface.predict(\"Give me code to make snake game in c\")\n",
    "print(output)"
   ]
  }
 ],
 "metadata": {
  "kernelspec": {
   "display_name": "venv",
   "language": "python",
   "name": "python3"
  },
  "language_info": {
   "codemirror_mode": {
    "name": "ipython",
    "version": 3
   },
   "file_extension": ".py",
   "mimetype": "text/x-python",
   "name": "python",
   "nbconvert_exporter": "python",
   "pygments_lexer": "ipython3",
   "version": "3.9.0"
  }
 },
 "nbformat": 4,
 "nbformat_minor": 2
}
